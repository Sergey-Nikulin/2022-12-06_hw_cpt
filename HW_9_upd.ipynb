{
 "cells": [
  {
   "cell_type": "markdown",
   "metadata": {
    "id": "rPddd74VhkfN"
   },
   "source": [
    "# Домашнее задание \"Центральная предельная теорема и статистика\"."
   ]
  },
  {
   "cell_type": "markdown",
   "metadata": {
    "id": "1xu7dfnnhkhe"
   },
   "source": [
    "## Задание."
   ]
  },
  {
   "cell_type": "markdown",
   "metadata": {
    "id": "uI8KNiPUhkly"
   },
   "source": [
    "В этом задании нужно убедиться, что ЦПТ действительно работает.\n",
    "\n",
    "Создайте случайную величину из [любого выбранного вами распределения](https://docs.scipy.org/doc/scipy/reference/stats.html), для разных значений `n` сгенерируйте 1000 выборок размера `n`. Постройте гистрограммы средних этих выборок и сделайте выводы."
   ]
  },
  {
   "cell_type": "code",
   "execution_count": 3,
   "metadata": {
    "id": "QrRvwD__Iu3j"
   },
   "outputs": [],
   "source": [
    "import pandas as pd\n",
    "import numpy as np\n",
    "import matplotlib.pyplot as plt\n",
    "import scipy.stats as sts\n",
    "%matplotlib inline"
   ]
  },
  {
   "cell_type": "code",
   "execution_count": 5,
   "metadata": {
    "id": "ZvGvPtzViURC"
   },
   "outputs": [],
   "source": [
    "rv = sts.expon(loc=10, scale=1.5)\n",
    "sample = rv.rvs(size=1000)"
   ]
  },
  {
   "cell_type": "code",
   "execution_count": 6,
   "metadata": {
    "id": "XSpWp8P3iUfO"
   },
   "outputs": [
    {
     "data": {
      "image/png": "[encoded data removed]",
      "text/plain": [
       "<Figure size 432x288 with 1 Axes>"
      ]
     },
     "metadata": {
      "needs_background": "light"
     },
     "output_type": "display_data"
    }
   ],
   "source": [
    "x = np.linspace(0,2,100)\n",
    "pdf = rv.pdf(x)\n",
    "plt.hist(sample, density=True, bins=30, label='sample histogram')\n",
    "plt.plot(x, pdf, label='theoretical pdf', alpha=0.5)\n",
    "plt.legend()\n",
    "plt.ylabel('fraction of samples, $f(x)$')\n",
    "plt.xlabel('$x$')\n",
    "plt.show()"
   ]
  },
  {
   "cell_type": "code",
   "execution_count": 15,
   "metadata": {
    "id": "Rm7dyNaRib1G"
   },
   "outputs": [],
   "source": [
    "n1 = 100                # Размеры выборок \n",
    "# YOUR CODE HERE\n",
    "\n",
    "a1 = np.array([])     # Массивы для сохранения средних по выборкам\n",
    "# YOUR CODE HERE\n",
    "\n",
    "samples_count = 1000  # Количество повторов генерации\n",
    "\n",
    "for number in range(samples_count): \n",
    "    sample1 = rv.rvs(size=n1)               # На каждом цикле генерируем выборки указанных размеров\n",
    "    # YOUR CODE HERE\n",
    "    a1 = np.append(a1, sample1.mean())      # Считаем среднее по каждой выборке и добавляем в массив средних\n",
    "    # YOUR CODE HERE"
   ]
  },
  {
   "cell_type": "code",
   "execution_count": 16,
   "metadata": {
    "id": "vEkIWfggib5p"
   },
   "outputs": [
    {
     "data": {
      "text/plain": [
       "Text(0.5, 0, '$x$')"
      ]
     },
     "execution_count": 16,
     "metadata": {},
     "output_type": "execute_result"
    },
    {
     "data": {
      "image/png": "[encoded data removed]",
      "text/plain": [
       "<Figure size 432x288 with 1 Axes>"
      ]
     },
     "metadata": {
      "needs_background": "light"
     },
     "output_type": "display_data"
    }
   ],
   "source": [
    "label_1 = 'sample of ' + str(n1) + ' histogram'   # Подписи для графиков\n",
    "# YOUR CODE HERE\n",
    "plt.hist(a1, density=True, label=label_1)         # Строим графики\n",
    "# YOUR CODE HERE\n",
    "\n",
    "plt.legend() \n",
    "plt.ylabel('samples means')\n",
    "plt.xlabel('$x$')"
   ]
  },
  {
   "cell_type": "code",
   "execution_count": null,
   "metadata": {},
   "outputs": [],
   "source": [
    "# ЦПТ действительно работает"
   ]
  }
 ],
 "metadata": {
  "colab": {
   "collapsed_sections": [],
   "name": "HW_9_upd",
   "provenance": []
  },
  "kernelspec": {
   "display_name": "Python 3 (ipykernel)",
   "language": "python",
   "name": "python3"
  },
  "language_info": {
   "codemirror_mode": {
    "name": "ipython",
    "version": 3
   },
   "file_extension": ".py",
   "mimetype": "text/x-python",
   "name": "python",
   "nbconvert_exporter": "python",
   "pygments_lexer": "ipython3",
   "version": "3.9.12"
  }
 },
 "nbformat": 4,
 "nbformat_minor": 1
}
